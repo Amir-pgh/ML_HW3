{
  "cells": [
    {
      "cell_type": "markdown",
      "metadata": {
        "id": "3ZIV2jcW-6d3"
      },
      "source": [
        "<h1 align=\"center\">Introduction to Machine Learning - Course Code: 25737</h1>\n",
        "<h4 align=\"center\">Instructor: Dr. Amiri</h4>\n",
        "<h4 align=\"center\">Sharif University of Technology, Spring 2024</h4>\n",
        "<h4 align=\"center\">Computer Assignment 3</h4>\n",
        "<h4 align=\"center\">\n",
        "\n",
        "Question 2\n",
        "\n",
        "</h4>"
      ]
    },
    {
      "cell_type": "markdown",
      "metadata": {
        "id": "CF-rDxBN-6d7"
      },
      "source": [
        "# Personal Data"
      ]
    },
    {
      "cell_type": "code",
      "execution_count": 1,
      "metadata": {
        "id": "RUH9hoXy-6d8"
      },
      "outputs": [],
      "source": [
        "# Set your student number\n",
        "student_number = 400107553\n",
        "Name = 'Amirali'\n",
        "Last_Name = 'Pourdehghan'"
      ]
    },
    {
      "cell_type": "markdown",
      "metadata": {
        "id": "q0YdWeco-6d9"
      },
      "source": [
        "# Rules\n",
        "- You are not allowed to add or remove cells. You **must use the provided space to write your code**. If you don't follow this rule, **your Practical Assignment won't be graded**.  \n",
        "\n",
        "- Collaboration and using the internet is allowed, but your code **must be written by yourself**. **Copying code** from each other or from available resources will result in a **zero score for the assignment**.\n",
        "\n",
        "- You are not allowed to use `torch.nn`, `torch.optim` and any activation function and loss function implemented in torch."
      ]
    },
    {
      "cell_type": "markdown",
      "metadata": {
        "id": "gsr-aM-T-6d9"
      },
      "source": [
        "## Question 1) Convolutional Neural Networks ``(50 pt.)``\n",
        "\n",
        "In this question, you'll be coding up a convolutional neural network from scratch to classify images using PyTorch.  \n",
        "\n",
        "### Instructions\n",
        "- Install PyTorch following the instructions [here](https://pytorch.org/).\n",
        "- Install the [`torchinfo` package](https://github.com/TylerYep/torchinfo) to visualize the network architecture and the number of parameters. The maximum number of parameters you are allowed to use for your network is **100,000**.\n",
        "- You are required to complete the functions defined in the code blocks following each question. Fill out sections of the code marked `\"YOUR CODE HERE\"`.\n",
        "- You're free to add any number of methods within each class.\n",
        "- You may also add any number of additional code blocks that you deem necessary."
      ]
    },
    {
      "cell_type": "markdown",
      "metadata": {
        "id": "JQ9W9apS-6d9"
      },
      "source": [
        "### Data Preparation\n",
        "In this assignment, we will use the Fashion-MNIST dataset. Fashion-MNIST is a dataset of Zalando's article images—consisting of a training set of 60,000 examples and a test set of 10,000 examples. Each example is a 28x28 grayscale image, associated with a label from 10 classes.  \n",
        "\n",
        "#### Data\n",
        "\n",
        "Each image is 28 pixels in height and 28 pixels in width, for a total of 784 pixels in total. Each pixel has a single pixel-value associated with it, indicating the lightness or darkness of that pixel, with higher numbers meaning darker. This pixel-value is an integer between 0 and 255.  \n",
        "\n",
        "#### Labels\n",
        "\n",
        "Each training and test example is assigned to one of the following labels:\n",
        "\n",
        "| Label | Description |\n",
        "|-------|-------------|\n",
        "| 0     | T-shirt/top |\n",
        "| 1     | Trouser     |\n",
        "| 2     | Pullover    |\n",
        "| 3     | Dress       |\n",
        "| 4     | Coat        |\n",
        "| 5     | Sandal      |\n",
        "| 6     | Shirt       |\n",
        "| 7     | Sneaker     |\n",
        "| 8     | Bag         |\n",
        "| 9     | Ankle boot  |\n",
        "\n",
        "Fashion-MNIST is included in the `torchvision` library."
      ]
    },
    {
      "cell_type": "code",
      "execution_count": 2,
      "metadata": {
        "id": "bOwNA4Kk-6d-"
      },
      "outputs": [],
      "source": [
        "# Import required packages\n",
        "from torchvision.datasets import FashionMNIST\n",
        "from torchvision.transforms import Compose, ToTensor, Normalize\n",
        "import matplotlib.pyplot as plt\n",
        "import numpy as np\n",
        "from torch.utils.data import DataLoader, SubsetRandomSampler\n",
        "import torch"
      ]
    },
    {
      "cell_type": "code",
      "execution_count": 3,
      "metadata": {
        "id": "dX8yh18A-6d-",
        "colab": {
          "base_uri": "https://localhost:8080/"
        },
        "outputId": "e5749084-fe2b-4314-85db-8bba85bb6034"
      },
      "outputs": [
        {
          "output_type": "stream",
          "name": "stdout",
          "text": [
            "Downloading http://fashion-mnist.s3-website.eu-central-1.amazonaws.com/train-images-idx3-ubyte.gz\n",
            "Downloading http://fashion-mnist.s3-website.eu-central-1.amazonaws.com/train-images-idx3-ubyte.gz to MNIST_data/FashionMNIST/raw/train-images-idx3-ubyte.gz\n"
          ]
        },
        {
          "output_type": "stream",
          "name": "stderr",
          "text": [
            "100%|██████████| 26421880/26421880 [00:00<00:00, 115456033.05it/s]\n"
          ]
        },
        {
          "output_type": "stream",
          "name": "stdout",
          "text": [
            "Extracting MNIST_data/FashionMNIST/raw/train-images-idx3-ubyte.gz to MNIST_data/FashionMNIST/raw\n",
            "\n",
            "Downloading http://fashion-mnist.s3-website.eu-central-1.amazonaws.com/train-labels-idx1-ubyte.gz\n",
            "Downloading http://fashion-mnist.s3-website.eu-central-1.amazonaws.com/train-labels-idx1-ubyte.gz to MNIST_data/FashionMNIST/raw/train-labels-idx1-ubyte.gz\n"
          ]
        },
        {
          "output_type": "stream",
          "name": "stderr",
          "text": [
            "100%|██████████| 29515/29515 [00:00<00:00, 6526512.16it/s]"
          ]
        },
        {
          "output_type": "stream",
          "name": "stdout",
          "text": [
            "Extracting MNIST_data/FashionMNIST/raw/train-labels-idx1-ubyte.gz to MNIST_data/FashionMNIST/raw\n",
            "\n",
            "Downloading http://fashion-mnist.s3-website.eu-central-1.amazonaws.com/t10k-images-idx3-ubyte.gz\n",
            "Downloading http://fashion-mnist.s3-website.eu-central-1.amazonaws.com/t10k-images-idx3-ubyte.gz to MNIST_data/FashionMNIST/raw/t10k-images-idx3-ubyte.gz\n"
          ]
        },
        {
          "output_type": "stream",
          "name": "stderr",
          "text": [
            "\n",
            "100%|██████████| 4422102/4422102 [00:00<00:00, 61712738.42it/s]\n"
          ]
        },
        {
          "output_type": "stream",
          "name": "stdout",
          "text": [
            "Extracting MNIST_data/FashionMNIST/raw/t10k-images-idx3-ubyte.gz to MNIST_data/FashionMNIST/raw\n",
            "\n",
            "Downloading http://fashion-mnist.s3-website.eu-central-1.amazonaws.com/t10k-labels-idx1-ubyte.gz\n",
            "Downloading http://fashion-mnist.s3-website.eu-central-1.amazonaws.com/t10k-labels-idx1-ubyte.gz to MNIST_data/FashionMNIST/raw/t10k-labels-idx1-ubyte.gz\n"
          ]
        },
        {
          "output_type": "stream",
          "name": "stderr",
          "text": [
            "100%|██████████| 5148/5148 [00:00<00:00, 14963462.92it/s]"
          ]
        },
        {
          "output_type": "stream",
          "name": "stdout",
          "text": [
            "Extracting MNIST_data/FashionMNIST/raw/t10k-labels-idx1-ubyte.gz to MNIST_data/FashionMNIST/raw\n",
            "\n"
          ]
        },
        {
          "output_type": "stream",
          "name": "stderr",
          "text": [
            "\n"
          ]
        }
      ],
      "source": [
        "# Transform to normalize the data and convert to a tensor\n",
        "transform = Compose([ToTensor(), Normalize((0.5,), (0.5,))])\n",
        "\n",
        "# Download the data\n",
        "dataset = FashionMNIST('MNIST_data/', download = True, train = True, transform = transform)"
      ]
    },
    {
      "cell_type": "markdown",
      "metadata": {
        "id": "_fVPz0eg-6d-"
      },
      "source": [
        "### Data Exploration\n",
        "Let's take a look at the classes in our dataset."
      ]
    },
    {
      "cell_type": "code",
      "execution_count": 4,
      "metadata": {
        "colab": {
          "base_uri": "https://localhost:8080/"
        },
        "id": "10O67zBx-6d_",
        "outputId": "1ba92107-c207-4d98-91b9-736d5d3b5fd1"
      },
      "outputs": [
        {
          "output_type": "stream",
          "name": "stdout",
          "text": [
            "['T-shirt/top', 'Trouser', 'Pullover', 'Dress', 'Coat', 'Sandal', 'Shirt', 'Sneaker', 'Bag', 'Ankle boot']\n"
          ]
        }
      ],
      "source": [
        "print(dataset.classes)"
      ]
    },
    {
      "cell_type": "markdown",
      "metadata": {
        "id": "JUKLuuFB-6d_"
      },
      "source": [
        "Now, visualize an instance from each class."
      ]
    },
    {
      "cell_type": "code",
      "execution_count": 5,
      "metadata": {
        "colab": {
          "base_uri": "https://localhost:8080/",
          "height": 560
        },
        "id": "GtId-uM--6d_",
        "outputId": "c353f05b-8984-4d97-8ba4-461bd8e5a9bf"
      },
      "outputs": [
        {
          "output_type": "display_data",
          "data": {
            "text/plain": [
              "<Figure size 1200x600 with 10 Axes>"
            ],
            "image/png": "[encoded data removed]"
          },
          "metadata": {}
        }
      ],
      "source": [
        "def plot_instance_of_each_class(dataset):\n",
        "    fig, axes = plt.subplots(2, 5, figsize=(12, 6))\n",
        "    class_instances = {}\n",
        "\n",
        "    for img, label in dataset:\n",
        "        if label not in class_instances:\n",
        "            class_instances[label] = img\n",
        "        if len(class_instances) == len(dataset.classes):\n",
        "            break\n",
        "\n",
        "    for ax, label in zip(axes.flatten(), class_instances.keys()):\n",
        "        ax.imshow(class_instances[label].squeeze(), cmap='gray')\n",
        "        ax.set_title(dataset.classes[label])\n",
        "        ax.axis('off')\n",
        "\n",
        "    plt.tight_layout()\n",
        "    plt.show()\n",
        "\n",
        "plot_instance_of_each_class(dataset)"
      ]
    },
    {
      "cell_type": "markdown",
      "metadata": {
        "id": "y3xPCG3v-6eA"
      },
      "source": [
        "### Creating Training and Validation Datasets\n",
        "\n",
        "The `split_indices` function takes in the size of the entire dataset, `n`, the fraction of data to be used as validation set, `val_frac`, and the random seed and returns the indices of the data points to be added to the validation dataset."
      ]
    },
    {
      "cell_type": "code",
      "execution_count": 6,
      "metadata": {
        "id": "Kl2NRqi2-6eA"
      },
      "outputs": [],
      "source": [
        "def split_indices(n, val_frac, seed):\n",
        "    # Determine the size of the validation set\n",
        "    n_val = int(val_frac * n)\n",
        "    np.random.seed(seed)\n",
        "    # Create random permutation between 0 to n-1\n",
        "    idxs = np.random.permutation(n)\n",
        "    # Pick first n_val indices for validation set\n",
        "    return idxs[n_val:], idxs[:n_val]"
      ]
    },
    {
      "cell_type": "code",
      "execution_count": 7,
      "metadata": {
        "colab": {
          "base_uri": "https://localhost:8080/"
        },
        "id": "6s_Ge6fu-6eB",
        "outputId": "b0bcea60-1960-4f46-cc48-36ed48645bd5"
      },
      "outputs": [
        {
          "output_type": "stream",
          "name": "stdout",
          "text": [
            "number of samples in training set: 48000\n",
            "number of samples in validation set: 12000\n"
          ]
        }
      ],
      "source": [
        "val_frac = 0.2  ## Set the fraction for the validation set\n",
        "rand_seed = 42  ## Set the random seed\n",
        "\n",
        "train_indices, val_indices = split_indices(len(dataset), val_frac, rand_seed)\n",
        "print(\"number of samples in training set: {}\".format(len(train_indices)))\n",
        "print(\"number of samples in validation set: {}\".format(len(val_indices)))"
      ]
    },
    {
      "cell_type": "markdown",
      "metadata": {
        "id": "Og6v99qa-6eB"
      },
      "source": [
        "Next, we make use of the built-in dataloaders in PyTorch to create iterables of our our training and validation sets. This helps in avoiding fitting the whole dataset into memory and only loads a batch of the data that we can decide."
      ]
    },
    {
      "cell_type": "code",
      "execution_count": 8,
      "metadata": {
        "id": "kkNFb6PC-6eB"
      },
      "outputs": [],
      "source": [
        "# Import required packages\n",
        "from torch.utils.data.sampler import SubsetRandomSampler\n",
        "from torch.utils.data.dataloader import DataLoader"
      ]
    },
    {
      "cell_type": "code",
      "execution_count": 9,
      "metadata": {
        "id": "T8fQLF7m-6eB"
      },
      "outputs": [],
      "source": [
        "batch_size = 64 ## Set the batch size\n",
        "\n",
        "# Training sampler and data loader\n",
        "train_sampler = SubsetRandomSampler(train_indices)\n",
        "train_dl = DataLoader(dataset,\n",
        "                     batch_size,\n",
        "                     sampler=train_sampler)\n",
        "\n",
        "# Validation sampler and data loader\n",
        "val_sampler = SubsetRandomSampler(val_indices)\n",
        "val_dl = DataLoader(dataset,\n",
        "                   batch_size,\n",
        "                   sampler=val_sampler)"
      ]
    },
    {
      "cell_type": "markdown",
      "metadata": {
        "id": "Brz5q-tN-6eC"
      },
      "source": [
        "Plot images in a sample batch of data."
      ]
    },
    {
      "cell_type": "code",
      "execution_count": 10,
      "metadata": {
        "colab": {
          "base_uri": "https://localhost:8080/",
          "height": 225
        },
        "id": "EfAX0OnV-6eC",
        "outputId": "c4b72bec-0174-40ef-ef70-9bdcbf967b6f"
      },
      "outputs": [
        {
          "output_type": "display_data",
          "data": {
            "text/plain": [
              "<Figure size 1500x600 with 6 Axes>"
            ],
            "image/png": "[encoded data removed]"
          },
          "metadata": {}
        }
      ],
      "source": [
        "def plot_sample_batch(data_loader):\n",
        "    images, labels = next(iter(data_loader))\n",
        "    fig, axes = plt.subplots(1, 6, figsize=(15, 6))\n",
        "    for img, label, ax in zip(images, labels, axes):\n",
        "        ax.imshow(img.squeeze(), cmap='gray')\n",
        "        ax.set_title(dataset.classes[label.item()])\n",
        "        ax.axis('off')\n",
        "    plt.show()\n",
        "\n",
        "plot_sample_batch(train_dl)"
      ]
    },
    {
      "cell_type": "markdown",
      "metadata": {
        "id": "318-cx0N-6eC"
      },
      "source": [
        "### Building the Model\n",
        "Create your model by defining the network architecture in the `ImageClassifierNet` class.<br>\n",
        "**NOTE:** The number of parameters in your network must be $\\leq$ 100,000."
      ]
    },
    {
      "cell_type": "code",
      "source": [
        "! pip install torchinfo"
      ],
      "metadata": {
        "colab": {
          "base_uri": "https://localhost:8080/"
        },
        "id": "NYcKzLztEfBm",
        "outputId": "881a538d-4f3e-4096-e934-9d5b20ddc0d4"
      },
      "execution_count": 11,
      "outputs": [
        {
          "output_type": "stream",
          "name": "stdout",
          "text": [
            "Collecting torchinfo\n",
            "  Downloading torchinfo-1.8.0-py3-none-any.whl (23 kB)\n",
            "Installing collected packages: torchinfo\n",
            "Successfully installed torchinfo-1.8.0\n"
          ]
        }
      ]
    },
    {
      "cell_type": "code",
      "execution_count": 12,
      "metadata": {
        "id": "U5xp31yy-6eC"
      },
      "outputs": [],
      "source": [
        "# Import required packages\n",
        "import torch.nn as nn\n",
        "import torch.nn.functional as F\n",
        "from torchinfo import summary"
      ]
    },
    {
      "cell_type": "code",
      "execution_count": 13,
      "metadata": {
        "id": "syRIzYSp-6eC"
      },
      "outputs": [],
      "source": [
        "class ImageClassifierNet(nn.Module):\n",
        "    def __init__(self, n_channels=1):\n",
        "        super(ImageClassifierNet, self).__init__()\n",
        "        self.conv1 = nn.Conv2d(n_channels, 16, kernel_size=3, padding=1)\n",
        "        self.conv2 = nn.Conv2d(16, 32, kernel_size=3, padding=1)\n",
        "        self.conv3 = nn.Conv2d(32, 64, kernel_size=3, padding=1)\n",
        "        self.fc1 = nn.Linear(64 * 3 * 3, 128)\n",
        "        self.fc2 = nn.Linear(128, 10)\n",
        "        self.pool = nn.MaxPool2d(2, 2)\n",
        "        self.dropout = nn.Dropout(0.25)\n",
        "\n",
        "    def forward(self, X):\n",
        "        X = self.pool(F.relu(self.conv1(X)))\n",
        "        X = self.pool(F.relu(self.conv2(X)))\n",
        "        X = self.pool(F.relu(self.conv3(X)))\n",
        "        X = X.view(-1, 64 * 3 * 3)\n",
        "        X = F.relu(self.fc1(X))\n",
        "        X = self.dropout(X)\n",
        "        X = self.fc2(X)\n",
        "        return X"
      ]
    },
    {
      "cell_type": "code",
      "execution_count": 14,
      "metadata": {
        "id": "biSg9ZSv-6eC"
      },
      "outputs": [],
      "source": [
        "model = ImageClassifierNet()"
      ]
    },
    {
      "cell_type": "markdown",
      "metadata": {
        "id": "QFJrVVYR-6eC"
      },
      "source": [
        "The following code block prints your network architecture. It also shows the total number of parameters in your network (see `Total params`).  \n",
        "\n",
        "**NOTE: The total number of parameters in your model should be <= 100,000.**"
      ]
    },
    {
      "cell_type": "code",
      "execution_count": 15,
      "metadata": {
        "colab": {
          "base_uri": "https://localhost:8080/"
        },
        "id": "_3_2naUm-6eC",
        "outputId": "81b51dcb-1ef8-48c6-ca30-abf0d605e8f4"
      },
      "outputs": [
        {
          "output_type": "execute_result",
          "data": {
            "text/plain": [
              "==========================================================================================\n",
              "Layer (type:depth-idx)                   Output Shape              Param #\n",
              "==========================================================================================\n",
              "ImageClassifierNet                       [64, 10]                  --\n",
              "├─Conv2d: 1-1                            [64, 16, 28, 28]          160\n",
              "├─MaxPool2d: 1-2                         [64, 16, 14, 14]          --\n",
              "├─Conv2d: 1-3                            [64, 32, 14, 14]          4,640\n",
              "├─MaxPool2d: 1-4                         [64, 32, 7, 7]            --\n",
              "├─Conv2d: 1-5                            [64, 64, 7, 7]            18,496\n",
              "├─MaxPool2d: 1-6                         [64, 64, 3, 3]            --\n",
              "├─Linear: 1-7                            [64, 128]                 73,856\n",
              "├─Dropout: 1-8                           [64, 128]                 --\n",
              "├─Linear: 1-9                            [64, 10]                  1,290\n",
              "==========================================================================================\n",
              "Total params: 98,442\n",
              "Trainable params: 98,442\n",
              "Non-trainable params: 0\n",
              "Total mult-adds (M): 129.05\n",
              "==========================================================================================\n",
              "Input size (MB): 0.20\n",
              "Forward/backward pass size (MB): 11.31\n",
              "Params size (MB): 0.39\n",
              "Estimated Total Size (MB): 11.90\n",
              "=========================================================================================="
            ]
          },
          "metadata": {},
          "execution_count": 15
        }
      ],
      "source": [
        "summary(model, input_size=(batch_size, 1, 28, 28))"
      ]
    },
    {
      "cell_type": "markdown",
      "metadata": {
        "id": "APxdzWoy-6eD"
      },
      "source": [
        "### Train the model\n",
        "Complete the `train_model` function to train your model on a dataset. Tune your network architecture and hyperparameters on the validation set."
      ]
    },
    {
      "cell_type": "code",
      "source": [
        "def train_model(n_epochs, model, train_dl, val_dl, loss_fn, opt_fn, lr):\n",
        "    \"\"\"\n",
        "    Trains the model on a dataset.\n",
        "\n",
        "    Args:\n",
        "        n_epochs: number of epochs\n",
        "        model: ImageClassifierNet object\n",
        "        train_dl: training dataloader\n",
        "        val_dl: validation dataloader\n",
        "        loss_fn: the loss function\n",
        "        opt_fn: the optimizer\n",
        "        lr: learning rate\n",
        "\n",
        "    Returns:\n",
        "        The trained model.\n",
        "        A tuple of (model, train_losses, val_losses, train_accuracies, val_accuracies)\n",
        "    \"\"\"\n",
        "    # Determine device\n",
        "    device = torch.device(\"cuda\" if torch.cuda.is_available() else \"cpu\")\n",
        "    print(f\"Training on device: {device}\")\n",
        "\n",
        "    # Move model to device\n",
        "    model.to(device)\n",
        "\n",
        "    optimizer = opt_fn(model.parameters(), lr=lr)\n",
        "    train_losses, val_losses, train_accuracies, val_accuracies = [], [], [], []\n",
        "\n",
        "    for epoch in range(n_epochs):\n",
        "        model.train()\n",
        "        running_loss = 0.0\n",
        "        correct = 0\n",
        "        total = 0\n",
        "\n",
        "        for images, labels in train_dl:\n",
        "            images, labels = images.to(device), labels.to(device)\n",
        "            optimizer.zero_grad()\n",
        "            outputs = model(images)\n",
        "            loss = loss_fn(outputs, labels)\n",
        "            loss.backward()\n",
        "            optimizer.step()\n",
        "\n",
        "            running_loss += loss.item()\n",
        "            _, predicted = torch.max(outputs.data, 1)\n",
        "            total += labels.size(0)\n",
        "            correct += (predicted == labels).sum().item()\n",
        "\n",
        "        if(len(train_dl)!=0):\n",
        "          train_losses.append(running_loss / len(train_dl))\n",
        "          train_accuracies.append(100 * correct / total)\n",
        "\n",
        "        model.eval()\n",
        "        val_loss = 0.0\n",
        "        correct = 0\n",
        "        total = 0\n",
        "\n",
        "        with torch.no_grad():\n",
        "            for images, labels in val_dl:\n",
        "                images, labels = images.to(device), labels.to(device)\n",
        "                outputs = model(images)\n",
        "                loss = loss_fn(outputs, labels)\n",
        "                val_loss += loss.item()\n",
        "                _, predicted = torch.max(outputs.data, 1)\n",
        "                total += labels.size(0)\n",
        "                correct += (predicted == labels).sum().item()\n",
        "        if(len(val_dl)!=0):\n",
        "          val_losses.append(val_loss / len(val_dl))\n",
        "          val_accuracies.append(100 * correct / total)\n",
        "          print(f'Epoch {epoch+1}/{n_epochs}, '\n",
        "              f'Train Loss: {train_losses[-1]:.4f}, Train Acc: {train_accuracies[-1]:.2f}, '\n",
        "              f'Val Loss: {val_losses[-1]:.4f}, Val Acc: {val_accuracies[-1]:.2f}')\n",
        "        else:\n",
        "          print(f'Epoch {epoch+1}/{n_epochs}, '\n",
        "              f'Train Loss: {train_losses[-1]:.4f}, Train Acc: {train_accuracies[-1]:.2f}')\n",
        "\n",
        "    return model, train_losses, val_losses, train_accuracies, val_accuracies\n"
      ],
      "metadata": {
        "id": "13jCnhs-GSXm"
      },
      "execution_count": null,
      "outputs": []
    },
    {
      "cell_type": "code",
      "source": [
        "def train_model(n_epochs, model, train_dl, val_dl=None, loss_fn=None, opt_fn=None, lr=0.001):\n",
        "    \"\"\"\n",
        "    Trains the model on a dataset.\n",
        "\n",
        "    Args:\n",
        "        n_epochs: number of epochs\n",
        "        model: ImageClassifierNet object\n",
        "        train_dl: training dataloader\n",
        "        val_dl: validation dataloader (optional)\n",
        "        loss_fn: the loss function\n",
        "        opt_fn: the optimizer\n",
        "        lr: learning rate\n",
        "\n",
        "    Returns:\n",
        "        The trained model.\n",
        "        A tuple of (model, train_losses, val_losses, train_accuracies, val_accuracies)\n",
        "    \"\"\"\n",
        "    # Determine device\n",
        "    device = torch.device(\"cuda\" if torch.cuda.is_available() else \"cpu\")\n",
        "    print(f\"Training on device: {device}\")\n",
        "\n",
        "    # Move model to device\n",
        "    model.to(device)\n",
        "\n",
        "    optimizer = opt_fn(model.parameters(), lr=lr)\n",
        "    train_losses, val_losses, train_accuracies, val_accuracies = [], [], [], []\n",
        "\n",
        "    for epoch in range(n_epochs):\n",
        "        model.train()\n",
        "        running_loss = 0.0\n",
        "        correct = 0\n",
        "        total = 0\n",
        "\n",
        "        for images, labels in train_dl:\n",
        "            images, labels = images.to(device), labels.to(device)\n",
        "            optimizer.zero_grad()\n",
        "            outputs = model(images)\n",
        "            loss = loss_fn(outputs, labels)\n",
        "            loss.backward()\n",
        "            optimizer.step()\n",
        "\n",
        "            running_loss += loss.item()\n",
        "            _, predicted = torch.max(outputs.data, 1)\n",
        "            total += labels.size(0)\n",
        "            correct += (predicted == labels).sum().item()\n",
        "\n",
        "        epoch_loss = running_loss / len(train_dl)\n",
        "        epoch_acc = 100 * correct / total\n",
        "\n",
        "        train_losses.append(epoch_loss)\n",
        "        train_accuracies.append(epoch_acc)\n",
        "\n",
        "        if val_dl:\n",
        "            model.eval()\n",
        "            val_loss = 0.0\n",
        "            correct = 0\n",
        "            total = 0\n",
        "\n",
        "            with torch.no_grad():\n",
        "                for images, labels in val_dl:\n",
        "                    images, labels = images.to(device), labels.to(device)\n",
        "                    outputs = model(images)\n",
        "                    loss = loss_fn(outputs, labels)\n",
        "\n",
        "                    val_loss += loss.item()\n",
        "                    _, predicted = torch.max(outputs.data, 1)\n",
        "                    total += labels.size(0)\n",
        "                    correct += (predicted == labels).sum().item()\n",
        "\n",
        "            val_losses.append(val_loss / len(val_dl))\n",
        "            val_accuracies.append(100 * correct / total)\n",
        "            print(f'Epoch {epoch+1}/{n_epochs}, '\n",
        "                  f'Train Loss: {epoch_loss:.4f}, Train Acc: {epoch_acc:.2f}, '\n",
        "                  f'Val Loss: {val_losses[-1]:.4f}, Val Acc: {val_accuracies[-1]:.2f}')\n",
        "        else:\n",
        "            print(f'Epoch {epoch+1}/{n_epochs}, Train Loss: {epoch_loss:.4f}, Train Acc: {epoch_acc:.2f}')\n",
        "\n",
        "    return model, train_losses, val_losses, train_accuracies, val_accuracies\n",
        "\n",
        "# Usage for training with validation\n",
        "# model, train_losses, val_losses, train_accuracies, val_accuracies = train_model(num_epochs, model, train_dl, val_dl, loss_fn, opt_fn, lr)\n",
        "\n",
        "# Usage for training without validation\n",
        "# model, train_losses, _, train_accuracies, _ = train_model(num_epochs, model, dl, None, loss_fn, opt_fn, lr)\n"
      ],
      "metadata": {
        "id": "ydQnro7Rhscj"
      },
      "execution_count": 16,
      "outputs": []
    },
    {
      "cell_type": "code",
      "execution_count": 17,
      "metadata": {
        "id": "iJQ0uIJD-6eD"
      },
      "outputs": [],
      "source": [
        "num_epochs = 20 # Number of training epochs\n",
        "loss_fn = nn.CrossEntropyLoss()  # Define the loss function\n",
        "opt_fn = torch.optim.Adam # Select an optimizer\n",
        "lr =  0.001 # Set the learning rate"
      ]
    },
    {
      "cell_type": "code",
      "execution_count": 18,
      "metadata": {
        "colab": {
          "base_uri": "https://localhost:8080/"
        },
        "id": "p-cutSEV-6eD",
        "outputId": "89422287-c14d-4cdb-e4e4-64d5f93a1b08"
      },
      "outputs": [
        {
          "output_type": "stream",
          "name": "stdout",
          "text": [
            "Training on device: cpu\n",
            "Epoch 1/20, Train Loss: 0.5964, Train Acc: 78.06, Val Loss: 0.3785, Val Acc: 86.56\n",
            "Epoch 2/20, Train Loss: 0.3553, Train Acc: 86.94, Val Loss: 0.3104, Val Acc: 88.42\n",
            "Epoch 3/20, Train Loss: 0.3009, Train Acc: 88.86, Val Loss: 0.3113, Val Acc: 88.30\n",
            "Epoch 4/20, Train Loss: 0.2700, Train Acc: 89.97, Val Loss: 0.2657, Val Acc: 90.10\n",
            "Epoch 5/20, Train Loss: 0.2469, Train Acc: 90.80, Val Loss: 0.2534, Val Acc: 90.51\n",
            "Epoch 6/20, Train Loss: 0.2279, Train Acc: 91.64, Val Loss: 0.2457, Val Acc: 91.01\n",
            "Epoch 7/20, Train Loss: 0.2128, Train Acc: 92.06, Val Loss: 0.2505, Val Acc: 90.68\n",
            "Epoch 8/20, Train Loss: 0.1994, Train Acc: 92.60, Val Loss: 0.2467, Val Acc: 90.97\n",
            "Epoch 9/20, Train Loss: 0.1875, Train Acc: 93.05, Val Loss: 0.2393, Val Acc: 91.37\n",
            "Epoch 10/20, Train Loss: 0.1742, Train Acc: 93.49, Val Loss: 0.2324, Val Acc: 91.72\n",
            "Epoch 11/20, Train Loss: 0.1641, Train Acc: 93.81, Val Loss: 0.2323, Val Acc: 91.74\n",
            "Epoch 12/20, Train Loss: 0.1565, Train Acc: 94.05, Val Loss: 0.2368, Val Acc: 91.51\n",
            "Epoch 13/20, Train Loss: 0.1427, Train Acc: 94.52, Val Loss: 0.2416, Val Acc: 91.71\n",
            "Epoch 14/20, Train Loss: 0.1399, Train Acc: 94.70, Val Loss: 0.2392, Val Acc: 91.78\n",
            "Epoch 15/20, Train Loss: 0.1331, Train Acc: 95.01, Val Loss: 0.2503, Val Acc: 91.66\n",
            "Epoch 16/20, Train Loss: 0.1213, Train Acc: 95.38, Val Loss: 0.2628, Val Acc: 91.59\n",
            "Epoch 17/20, Train Loss: 0.1139, Train Acc: 95.59, Val Loss: 0.2861, Val Acc: 91.00\n",
            "Epoch 18/20, Train Loss: 0.1112, Train Acc: 95.67, Val Loss: 0.2725, Val Acc: 91.50\n",
            "Epoch 19/20, Train Loss: 0.1026, Train Acc: 96.03, Val Loss: 0.2973, Val Acc: 91.76\n",
            "Epoch 20/20, Train Loss: 0.0989, Train Acc: 96.16, Val Loss: 0.3142, Val Acc: 91.28\n"
          ]
        }
      ],
      "source": [
        "model, train_losses, val_losses, train_accuracies, val_accuracies = train_model(num_epochs, model, train_dl, val_dl, loss_fn, opt_fn, lr)"
      ]
    },
    {
      "cell_type": "markdown",
      "metadata": {
        "id": "QMcxGz1R-6eD"
      },
      "source": [
        "### Plot loss and accuracy"
      ]
    },
    {
      "cell_type": "code",
      "execution_count": 19,
      "metadata": {
        "id": "Xs_OAT3c-6eD"
      },
      "outputs": [],
      "source": [
        "def plot_accuracy(train_accuracies, val_accuracies):\n",
        "    \"\"\"Plot accuracies\"\"\"\n",
        "    plt.plot(train_accuracies, \"-x\")\n",
        "    plt.plot(val_accuracies, \"-o\")\n",
        "    plt.xlabel(\"Epoch\")\n",
        "    plt.ylabel(\"Accuracy\")\n",
        "    plt.legend([\"Training\", \"Validation\"])\n",
        "    plt.title(\"Accuracy vs. No. of epochs\")\n",
        "    plt.show()\n",
        "\n",
        "def plot_losses(train_losses, val_losses):\n",
        "    \"\"\"Plot losses\"\"\"\n",
        "    plt.plot(train_losses, \"-x\")\n",
        "    plt.plot(val_losses, \"-o\")\n",
        "    plt.xlabel(\"Epoch\")\n",
        "    plt.ylabel(\"Loss\")\n",
        "    plt.legend([\"Training\", \"Validation\"])\n",
        "    plt.title(\"Loss vs. No. of Epochs\")\n",
        "    plt.show()\n",
        "\n"
      ]
    },
    {
      "cell_type": "code",
      "execution_count": 20,
      "metadata": {
        "colab": {
          "base_uri": "https://localhost:8080/",
          "height": 927
        },
        "id": "SJzFBOsa-6eD",
        "outputId": "fb2e21a9-edda-435c-e54e-a0d5e245f21c"
      },
      "outputs": [
        {
          "output_type": "display_data",
          "data": {
            "text/plain": [
              "<Figure size 640x480 with 1 Axes>"
            ],
            "image/png": "[encoded data removed]"
          },
          "metadata": {}
        },
        {
          "output_type": "display_data",
          "data": {
            "text/plain": [
              "<Figure size 640x480 with 1 Axes>"
            ],
            "image/png": "[encoded data removed]"
          },
          "metadata": {}
        }
      ],
      "source": [
        "plot_accuracy(train_accuracies, val_accuracies)\n",
        "plot_losses(train_losses, val_losses)"
      ]
    },
    {
      "cell_type": "markdown",
      "metadata": {
        "id": "29eycQaq-6eD"
      },
      "source": [
        "### Train a model on the entire dataset"
      ]
    },
    {
      "cell_type": "code",
      "execution_count": 21,
      "metadata": {
        "id": "72y2RJg1-6eD"
      },
      "outputs": [],
      "source": [
        "indices, _ = split_indices(len(dataset), 0, rand_seed)\n",
        "\n",
        "sampler = SubsetRandomSampler(indices)\n",
        "dl = DataLoader(dataset, batch_size, sampler=sampler)"
      ]
    },
    {
      "cell_type": "code",
      "execution_count": 22,
      "metadata": {
        "id": "jW4mUI8F-6eE"
      },
      "outputs": [],
      "source": [
        "num_epochs = 20 # Max number of training epochs\n",
        "lr = 0.001 # Set the learning rate"
      ]
    },
    {
      "cell_type": "code",
      "execution_count": 23,
      "metadata": {
        "colab": {
          "base_uri": "https://localhost:8080/"
        },
        "id": "eLlDOzcY-6eE",
        "outputId": "3cdd7e73-0fd4-448a-fa17-f164d4ff33c9"
      },
      "outputs": [
        {
          "output_type": "stream",
          "name": "stdout",
          "text": [
            "Training on device: cpu\n",
            "Epoch 1/20, Train Loss: 0.1424, Train Acc: 95.03\n",
            "Epoch 2/20, Train Loss: 0.1269, Train Acc: 95.36\n",
            "Epoch 3/20, Train Loss: 0.1174, Train Acc: 95.62\n",
            "Epoch 4/20, Train Loss: 0.1092, Train Acc: 95.93\n",
            "Epoch 5/20, Train Loss: 0.1047, Train Acc: 95.98\n",
            "Epoch 6/20, Train Loss: 0.0971, Train Acc: 96.30\n",
            "Epoch 7/20, Train Loss: 0.0941, Train Acc: 96.38\n",
            "Epoch 8/20, Train Loss: 0.0888, Train Acc: 96.56\n",
            "Epoch 9/20, Train Loss: 0.0860, Train Acc: 96.66\n",
            "Epoch 10/20, Train Loss: 0.0829, Train Acc: 96.75\n",
            "Epoch 11/20, Train Loss: 0.0773, Train Acc: 96.98\n",
            "Epoch 12/20, Train Loss: 0.0770, Train Acc: 97.06\n",
            "Epoch 13/20, Train Loss: 0.0758, Train Acc: 97.05\n",
            "Epoch 14/20, Train Loss: 0.0711, Train Acc: 97.20\n",
            "Epoch 15/20, Train Loss: 0.0695, Train Acc: 97.29\n",
            "Epoch 16/20, Train Loss: 0.0685, Train Acc: 97.32\n",
            "Epoch 17/20, Train Loss: 0.0628, Train Acc: 97.58\n",
            "Epoch 18/20, Train Loss: 0.0672, Train Acc: 97.44\n",
            "Epoch 19/20, Train Loss: 0.0619, Train Acc: 97.65\n",
            "Epoch 20/20, Train Loss: 0.0612, Train Acc: 97.73\n"
          ]
        }
      ],
      "source": [
        "model, _, _, _, _ = train_model(num_epochs, model, dl, [], loss_fn, opt_fn, lr)"
      ]
    },
    {
      "cell_type": "markdown",
      "metadata": {
        "id": "VRBzDWjG-6eE"
      },
      "source": [
        "### Check Predictions\n",
        "Now, you should evaluate your model on dataset. Specifically, you should calculate the class probabilities for each image, and then visualize these probabilities along with the image itself. Please include a function `view_prediction` in your code that takes an image, its label, the calculated probabilities, and the list of class names as input, and plots the image along with the probabilities."
      ]
    },
    {
      "cell_type": "code",
      "execution_count": 25,
      "metadata": {
        "id": "jZRvXEgG-6eE"
      },
      "outputs": [],
      "source": [
        "def view_prediction(img, label, probs, classes):\n",
        "    img = img.squeeze()\n",
        "    fig, ax = plt.subplots()\n",
        "    ax.imshow(img, cmap='gray')\n",
        "    ax.axis('off')\n",
        "    plt.title(f\"True label: {classes[label]}\")\n",
        "\n",
        "    fig, ax = plt.subplots()\n",
        "    y_pos = np.arange(len(classes))\n",
        "    ax.barh(y_pos, probs)\n",
        "    ax.set_yticks(y_pos)\n",
        "    ax.set_yticklabels(classes)\n",
        "    ax.invert_yaxis()  # labels read top-to-bottom\n",
        "    ax.set_xlabel('Probability')\n",
        "    plt.show()"
      ]
    },
    {
      "cell_type": "markdown",
      "metadata": {
        "id": "EHSRI1VG-6eH"
      },
      "source": [
        "### Save the model"
      ]
    },
    {
      "cell_type": "code",
      "execution_count": 26,
      "metadata": {
        "id": "VI8imdVl-6eI"
      },
      "outputs": [],
      "source": [
        "torch.save(model, 'model')"
      ]
    },
    {
      "cell_type": "markdown",
      "metadata": {
        "id": "KeuOL76h-6eI"
      },
      "source": [
        "### Calculate accuracy on the test set"
      ]
    },
    {
      "cell_type": "code",
      "execution_count": 27,
      "metadata": {
        "id": "gCguGmma-6eI"
      },
      "outputs": [],
      "source": [
        "test_dataset = FashionMNIST('MNIST_data/', download = True, train = False, transform = transform)\n",
        "test_dl = DataLoader(test_dataset, batch_size)"
      ]
    },
    {
      "cell_type": "code",
      "execution_count": 28,
      "metadata": {
        "id": "31Rok9wI-6eI",
        "colab": {
          "base_uri": "https://localhost:8080/"
        },
        "outputId": "79468d3c-382b-46ac-ab0a-2224c4da27a8"
      },
      "outputs": [
        {
          "output_type": "stream",
          "name": "stdout",
          "text": [
            "Test Accuracy = 91.5100\n"
          ]
        }
      ],
      "source": [
        "def evaluate(model, test_dl):\n",
        "    \"\"\"\n",
        "    Evaluates your model on the test data.\n",
        "\n",
        "    Args:\n",
        "        model: ImageClassifierNet object\n",
        "        test_dl: test dataloader\n",
        "\n",
        "    Returns:\n",
        "        Test accuracy.\n",
        "    \"\"\"\n",
        "    device = torch.device(\"cuda\" if torch.cuda.is_available() else \"cpu\")\n",
        "    model.to(device)\n",
        "    model.eval()\n",
        "\n",
        "    correct = 0\n",
        "    total = 0\n",
        "\n",
        "    with torch.no_grad():\n",
        "        for images, labels in test_dl:\n",
        "            images, labels = images.to(device), labels.to(device)\n",
        "            outputs = model(images)\n",
        "            _, predicted = torch.max(outputs.data, 1)\n",
        "            total += labels.size(0)\n",
        "            correct += (predicted == labels).sum().item()\n",
        "\n",
        "    accuracy = 100 * correct / total\n",
        "    return accuracy\n",
        "\n",
        "# Move the test data to the same device as the model\n",
        "test_dl = DataLoader(test_dataset, batch_size, shuffle=False)\n",
        "\n",
        "# Evaluate the model\n",
        "print(\"Test Accuracy = {:.4f}\".format(evaluate(model, test_dl)))\n"
      ]
    },
    {
      "cell_type": "code",
      "execution_count": 29,
      "metadata": {
        "colab": {
          "base_uri": "https://localhost:8080/"
        },
        "id": "KB3K6MiD-6eI",
        "outputId": "312e97a1-2dac-47e7-a7bc-e331e76b546a"
      },
      "outputs": [
        {
          "output_type": "stream",
          "name": "stdout",
          "text": [
            "Test Accuracy = 91.5100\n"
          ]
        }
      ],
      "source": [
        "device = torch.device(\"cuda\" if torch.cuda.is_available() else \"cpu\")\n",
        "test_dl = DataLoader(test_dataset, batch_size, shuffle=False)\n",
        "\n",
        "# Move the model to the correct device\n",
        "model.to(device)\n",
        "\n",
        "# Evaluate the model\n",
        "print(\"Test Accuracy = {:.4f}\".format(evaluate(model, test_dl)))"
      ]
    }
  ],
  "metadata": {
    "kernelspec": {
      "display_name": "Python 3",
      "name": "python3"
    },
    "language_info": {
      "codemirror_mode": {
        "name": "ipython",
        "version": 3
      },
      "file_extension": ".py",
      "mimetype": "text/x-python",
      "name": "python",
      "nbconvert_exporter": "python",
      "pygments_lexer": "ipython3",
      "version": "3.12.1"
    },
    "colab": {
      "provenance": [],
      "gpuType": "V28"
    },
    "accelerator": "TPU"
  },
  "nbformat": 4,
  "nbformat_minor": 0
}